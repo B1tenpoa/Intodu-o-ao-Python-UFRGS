{
 "cells": [
  {
   "cell_type": "code",
   "execution_count": 1,
   "id": "43791043",
   "metadata": {},
   "outputs": [],
   "source": [
    "import os\n",
    "\n",
    "# Criando diretórios\n",
    "\n",
    "if os.path.exists('documentos') == False:\n",
    "    os.mkdir('documentos')\n",
    "    \n",
    "if os.path.exists('planilhas') == False:\n",
    "    os.mkdir('planilhas')"
   ]
  },
  {
   "cell_type": "code",
   "execution_count": 3,
   "id": "6f001499",
   "metadata": {},
   "outputs": [],
   "source": [
    "import shutil\n",
    "import os\n",
    "\n",
    "arquivos = os.listdir()\n",
    "\n",
    "for arquivo in arquivos:\n",
    "    if \".xls\" in arquivo:\n",
    "        shutil.move(arquivo, f\"./planilhas/{arquivo}\")\n",
    "    elif \".doc\" in arquivo:\n",
    "        shutil.move(arquivo, f\"./documentos/{arquivo}\")"
   ]
  },
  {
   "cell_type": "code",
   "execution_count": null,
   "id": "0d2e81b0",
   "metadata": {},
   "outputs": [],
   "source": []
  }
 ],
 "metadata": {
  "kernelspec": {
   "display_name": "Python 3 (ipykernel)",
   "language": "python",
   "name": "python3"
  },
  "language_info": {
   "codemirror_mode": {
    "name": "ipython",
    "version": 3
   },
   "file_extension": ".py",
   "mimetype": "text/x-python",
   "name": "python",
   "nbconvert_exporter": "python",
   "pygments_lexer": "ipython3",
   "version": "3.9.12"
  }
 },
 "nbformat": 4,
 "nbformat_minor": 5
}
