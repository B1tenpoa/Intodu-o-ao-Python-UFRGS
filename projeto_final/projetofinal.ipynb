{
 "cells": [
  {
   "cell_type": "markdown",
   "id": "7cc9b611",
   "metadata": {},
   "source": [
    "# Programa acessa dados TCE\n",
    "Requisitos: Acessar elementos banco de dados e fazer a leitura dos balancetes\n",
    "Autor: Anderson Bitencourt\n",
    "Data: 10/09/2022\n",
    "Versão: 0.0.1"
   ]
  },
  {
   "cell_type": "code",
   "execution_count": 37,
   "id": "975d4306",
   "metadata": {},
   "outputs": [],
   "source": [
    "# importando o pacote requests\n",
    "\n",
    "import requests"
   ]
  },
  {
   "cell_type": "code",
   "execution_count": 38,
   "id": "1c776a4d",
   "metadata": {},
   "outputs": [
    {
     "data": {
      "text/plain": [
       "200"
      ]
     },
     "execution_count": 38,
     "metadata": {},
     "output_type": "execute_result"
    }
   ],
   "source": [
    "# Lendo o banco de dados do TCE\n",
    "\n",
    "endereco = \"http://dados.tce.rs.gov.br/dados/municipal/balancete-despesa/2022.csv\"\n",
    "\n",
    "tce = requests.get(endereco)\n",
    "tce.status_code"
   ]
  },
  {
   "cell_type": "code",
   "execution_count": 39,
   "id": "e43e30ef",
   "metadata": {},
   "outputs": [
    {
     "data": {
      "text/plain": [
       "200"
      ]
     },
     "execution_count": 39,
     "metadata": {},
     "output_type": "execute_result"
    }
   ],
   "source": [
    "def page_reader(endereco: str) -> requests.models.Response:\n",
    "    tce = requests.get(endereco)\n",
    "    return tce\n",
    "\n",
    "balancete_tce = page_reader(\"http://dados.tce.rs.gov.br/dados/municipal/balancete-despesa/2022.csv\")\n",
    "balancete_tce.status_code"
   ]
  },
  {
   "cell_type": "code",
   "execution_count": 40,
   "id": "faaf1f63",
   "metadata": {},
   "outputs": [
    {
     "data": {
      "text/plain": [
       "requests.models.Response"
      ]
     },
     "execution_count": 40,
     "metadata": {},
     "output_type": "execute_result"
    }
   ],
   "source": [
    "type(tce)"
   ]
  },
  {
   "cell_type": "code",
   "execution_count": 41,
   "id": "0af85663",
   "metadata": {},
   "outputs": [],
   "source": [
    "# Gravando o arquivo com as informações do banco de dados do TCE\n",
    "\n",
    "arquivo = open('balancete.csv', 'wb')\n",
    "for texto in tce.iter_content():\n",
    "    arquivo.write(texto)\n",
    "arquivo.close()"
   ]
  },
  {
   "cell_type": "code",
   "execution_count": 42,
   "id": "6fba0ce4",
   "metadata": {},
   "outputs": [],
   "source": [
    "def grava_balancete_csv(resposta: requests.models.Response) -> None:\n",
    "    arquivo = open('balancete.csv', 'wb')\n",
    "    for texto in tce.iter_content():\n",
    "        arquivo.write(texto)\n",
    "    arquivo.close()\n",
    "\n",
    "    grava_balancete_csv(balancete_tce)"
   ]
  },
  {
   "cell_type": "code",
   "execution_count": 43,
   "id": "22705f75",
   "metadata": {},
   "outputs": [],
   "source": [
    "# Importar pacote pandas\n",
    "import pandas as pd"
   ]
  },
  {
   "cell_type": "code",
   "execution_count": 44,
   "id": "c19d4707",
   "metadata": {},
   "outputs": [],
   "source": [
    "# Convertendo para xlsx\n",
    "balancete_df = pd.read_csv(\"balancete.csv\")\n",
    "balancete_df.to_excel(\"balancete.xlsx\")"
   ]
  },
  {
   "cell_type": "code",
   "execution_count": 45,
   "id": "8a04d894",
   "metadata": {},
   "outputs": [],
   "source": [
    "#Abrindo openpyxl\n",
    "from openpyxl import Workbook\n",
    "wb = Workbook()"
   ]
  },
  {
   "cell_type": "code",
   "execution_count": 46,
   "id": "64791d40",
   "metadata": {},
   "outputs": [],
   "source": [
    "from openpyxl import load_workbook"
   ]
  },
  {
   "cell_type": "code",
   "execution_count": 47,
   "id": "66cb0ab6",
   "metadata": {},
   "outputs": [],
   "source": [
    "wb = load_workbook('balancete.xlsx')\n",
    "wb.template = False\n",
    "wb.save('novo_balancete.xlsx')"
   ]
  },
  {
   "cell_type": "code",
   "execution_count": null,
   "id": "14db6f91",
   "metadata": {},
   "outputs": [],
   "source": []
  }
 ],
 "metadata": {
  "kernelspec": {
   "display_name": "Python 3 (ipykernel)",
   "language": "python",
   "name": "python3"
  },
  "language_info": {
   "codemirror_mode": {
    "name": "ipython",
    "version": 3
   },
   "file_extension": ".py",
   "mimetype": "text/x-python",
   "name": "python",
   "nbconvert_exporter": "python",
   "pygments_lexer": "ipython3",
   "version": "3.9.12"
  }
 },
 "nbformat": 4,
 "nbformat_minor": 5
}
